{
 "cells": [
  {
   "cell_type": "code",
   "execution_count": 1,
   "metadata": {},
   "outputs": [
    {
     "name": "stderr",
     "output_type": "stream",
     "text": [
      "Parsed with column specification:\n",
      "cols(\n",
      "  name = \u001b[31mcol_character()\u001b[39m,\n",
      "  review = \u001b[31mcol_character()\u001b[39m,\n",
      "  rating = \u001b[32mcol_double()\u001b[39m,\n",
      "  count = \u001b[32mcol_double()\u001b[39m,\n",
      "  standev = \u001b[32mcol_double()\u001b[39m\n",
      ")\n",
      "\n"
     ]
    },
    {
     "data": {
      "text/html": [
       "<ol class=list-inline>\n",
       "\t<li>191</li>\n",
       "\t<li>5</li>\n",
       "</ol>\n"
      ],
      "text/latex": [
       "\\begin{enumerate*}\n",
       "\\item 191\n",
       "\\item 5\n",
       "\\end{enumerate*}\n"
      ],
      "text/markdown": [
       "1. 191\n",
       "2. 5\n",
       "\n",
       "\n"
      ],
      "text/plain": [
       "[1] 191   5"
      ]
     },
     "metadata": {},
     "output_type": "display_data"
    },
    {
     "name": "stdout",
     "output_type": "stream",
     "text": [
      "\n",
      "\n",
      "+--------------------------+--------------------------------+--------+\n",
      "| name                     | review                         | rating |\n",
      "+==========================+================================+========+\n",
      "| Philips Avent 3 Pack 9oz | If I had not been given a ton  |   2    |\n",
      "| Bottles                  | of Avent bottles, I would have |        |\n",
      "|                          | chosen some other system.  The |        |\n",
      "|                          | leaking is terrible!!!  You    |        |\n",
      "|                          | have to buy the disks          |        |\n",
      "|                          | separately, you should get     |        |\n",
      "|                          | them for free because they are |        |\n",
      "|                          | absolutely essential.  The     |        |\n",
      "|                          | only way to mix formula in the |        |\n",
      "|                          | bottle or transport liquid is  |        |\n",
      "|                          | to use the disks in the ring,  |        |\n",
      "|                          | then switch to the nipple when |        |\n",
      "|                          | you are ready to feed.  The    |        |\n",
      "|                          | only reason I give it a two is |        |\n",
      "|                          | because I do like that you can |        |\n",
      "|                          | pump directly into the bottle  |        |\n",
      "|                          | with the ISIS breast pump.     |        |\n",
      "|                          | And, I like the sippy cups.    |        |\n",
      "+--------------------------+--------------------------------+--------+\n",
      "| Philips Avent 3 Pack 9oz | Leaks! Especially difficult to |   1    |\n",
      "| Bottles                  | get a tight seal if you use    |        |\n",
      "|                          | one hand (while holding baby). |        |\n",
      "|                          | A much better design is the    |        |\n",
      "|                          | Breast Flow Learning Curve     |        |\n",
      "|                          | First Years bottles. Instead   |        |\n",
      "|                          | buy The First Years 3pk.       |        |\n",
      "|                          | Breastflow 5oz. Bottles These  |        |\n",
      "|                          | worked much better for me.     |        |\n",
      "+--------------------------+--------------------------------+--------+\n",
      "| Philips Avent 3 Pack 9oz | I have been using the Avent    |   5    |\n",
      "| Bottles                  | bottle system for six months   |        |\n",
      "|                          | and have been completely       |        |\n",
      "|                          | satisfied. I introduced an     |        |\n",
      "|                          | Avent bottle to my daughter at |        |\n",
      "|                          | four weeks old and she         |        |\n",
      "|                          | transitioned easily between    |        |\n",
      "|                          | breast and bottle. She is      |        |\n",
      "|                          | still breastfed in the morning |        |\n",
      "|                          | and evenings but receives an   |        |\n",
      "|                          | Avent bottle at daycare and    |        |\n",
      "|                          | has never had a problem. I     |        |\n",
      "|                          | have never had a bottle leak   |        |\n",
      "|                          | of which other consumers have  |        |\n",
      "|                          | complained. I would recommend  |        |\n",
      "|                          | this system to any parent,     |        |\n",
      "|                          | especially those of part-time  |        |\n",
      "|                          | breastfed babies.              |        |\n",
      "+--------------------------+--------------------------------+--------+\n",
      "\n"
     ]
    }
   ],
   "source": [
    "product_review <- readr::read_csv(\"../input/toyamazonPhilips.csv\")\n",
    "dim(product_review)\n",
    "library(pander)\n",
    "pandoc.table(product_review[2:4,1:3], \n",
    "             justify = c('left', 'left', 'center'), style = 'grid')"
   ]
  },
  {
   "cell_type": "code",
   "execution_count": 2,
   "metadata": {},
   "outputs": [
    {
     "data": {
      "text/plain": [
       "\n",
       " 1  2  3  4  5 \n",
       "45 33 17 30 66 "
      ]
     },
     "metadata": {},
     "output_type": "display_data"
    }
   ],
   "source": [
    "table(product_review$rating)"
   ]
  },
  {
   "cell_type": "code",
   "execution_count": 3,
   "metadata": {},
   "outputs": [
    {
     "name": "stderr",
     "output_type": "stream",
     "text": [
      "\n",
      "Attaching package: ‘dplyr’\n",
      "\n",
      "\n",
      "The following objects are masked from ‘package:stats’:\n",
      "\n",
      "    filter, lag\n",
      "\n",
      "\n",
      "The following objects are masked from ‘package:base’:\n",
      "\n",
      "    intersect, setdiff, setequal, union\n",
      "\n",
      "\n"
     ]
    }
   ],
   "source": [
    "library(dplyr)\n",
    "product_review <- product_review %>% filter(rating != 3) %>% \n",
    "                    mutate(rating_new = if_else(rating >= 4, 1, 0))\n",
    "\n",
    "product_review_training <-  product_review[1:150, ]\n"
   ]
  },
  {
   "cell_type": "code",
   "execution_count": 4,
   "metadata": {},
   "outputs": [
    {
     "name": "stderr",
     "output_type": "stream",
     "text": [
      "Loading required package: NLP\n",
      "\n",
      "\n",
      "Attaching package: ‘NLP’\n",
      "\n",
      "\n",
      "The following object is masked from ‘package:httr’:\n",
      "\n",
      "    content\n",
      "\n",
      "\n"
     ]
    }
   ],
   "source": [
    "library(tm)\n",
    "corpus_toy <- Corpus(VectorSource(product_review_training$review))\n",
    "tdm_toy <- DocumentTermMatrix(corpus_toy, list(removePunctuation = TRUE, \n",
    "                                               removeNumbers = TRUE))\n",
    "\n",
    "training_set_toy <- as.matrix(tdm_toy)\n",
    "\n",
    "training_set_toy <- cbind(training_set_toy, product_review_training$rating_new)\n",
    "\n",
    "colnames(training_set_toy)[ncol(training_set_toy)] <- \"y\"\n",
    "\n",
    "training_set_toy <- as.data.frame(training_set_toy)\n",
    "training_set_toy$y <- as.factor(training_set_toy$y)"
   ]
  },
  {
   "cell_type": "code",
   "execution_count": 5,
   "metadata": {},
   "outputs": [
    {
     "name": "stderr",
     "output_type": "stream",
     "text": [
      "Loading required package: lattice\n",
      "\n",
      "Loading required package: ggplot2\n",
      "\n",
      "\n",
      "Attaching package: ‘ggplot2’\n",
      "\n",
      "\n",
      "The following object is masked from ‘package:NLP’:\n",
      "\n",
      "    annotate\n",
      "\n",
      "\n",
      "\n",
      "Attaching package: ‘caret’\n",
      "\n",
      "\n",
      "The following object is masked from ‘package:httr’:\n",
      "\n",
      "    progress\n",
      "\n",
      "\n"
     ]
    }
   ],
   "source": [
    "library(caret)\n",
    "review_toy_model <- train(y ~., data = training_set_toy, method = 'svmLinear3')"
   ]
  },
  {
   "cell_type": "code",
   "execution_count": 6,
   "metadata": {},
   "outputs": [
    {
     "data": {
      "text/plain": [
       "\n",
       "    0     1 \n",
       "0.208 0.792 "
      ]
     },
     "metadata": {},
     "output_type": "display_data"
    }
   ],
   "source": [
    "test_review_data <- product_review[151:191, ]\n",
    "\n",
    "test_corpus <- Corpus(VectorSource(test_review_data$review))\n",
    "test_tdm <- DocumentTermMatrix(test_corpus, control=list(dictionary = Terms(tdm_toy)))\n",
    "test_tdm <- as.matrix(test_tdm)\n",
    "\n",
    "#Build the prediction  \n",
    "model_toy_result <- predict(review_toy_model, newdata = test_tdm)\n",
    "\n",
    "check_accuracy <- as.data.frame(cbind(prediction = model_toy_result, rating = test_review_data$rating_new))\n",
    "\n",
    "check_accuracy <- check_accuracy %>% mutate(prediction = as.integer(prediction) - 1)\n",
    "\n",
    "check_accuracy$accuracy <- if_else(check_accuracy$prediction == check_accuracy$rating, 1, 0)\n",
    "round(prop.table(table(check_accuracy$accuracy)), 3)"
   ]
  }
 ],
 "metadata": {
  "kernelspec": {
   "display_name": "R",
   "language": "R",
   "name": "ir"
  },
  "language_info": {
   "codemirror_mode": "r",
   "file_extension": ".r",
   "mimetype": "text/x-r-source",
   "name": "R",
   "pygments_lexer": "r",
   "version": "3.6.0"
  }
 },
 "nbformat": 4,
 "nbformat_minor": 1
}
